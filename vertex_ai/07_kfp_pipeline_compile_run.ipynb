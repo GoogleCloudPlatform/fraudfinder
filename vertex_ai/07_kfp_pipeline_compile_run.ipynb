{
 "cells": [
  {
   "cell_type": "code",
   "execution_count": null,
   "id": "0d9d4a4c-923d-4505-94d7-bc0b20e5fb12",
   "metadata": {
    "id": "ur8xi4C7S06n"
   },
   "outputs": [],
   "source": [
    "# Copyright 2022 Google LLC\n",
    "#\n",
    "# Licensed under the Apache License, Version 2.0 (the \"License\");\n",
    "# you may not use this file except in compliance with the License.\n",
    "# You may obtain a copy of the License at\n",
    "#\n",
    "#     https://www.apache.org/licenses/LICENSE-2.0\n",
    "#\n",
    "# Unless required by applicable law or agreed to in writing, software\n",
    "# distributed under the License is distributed on an \"AS IS\" BASIS,\n",
    "# WITHOUT WARRANTIES OR CONDITIONS OF ANY KIND, either express or implied.\n",
    "# See the License for the specific language governing permissions and\n",
    "# limitations under the License."
   ]
  },
  {
   "cell_type": "markdown",
   "id": "bdcc1be1-a31c-4f27-82a2-0f5856b7850a",
   "metadata": {
    "id": "JAPoU8Sm5E6e"
   },
   "source": [
    "# KFP Pipeline Compile and Run\n",
    "\n",
    "<table align=\"left\">\n",
    "  <td>\n",
    "    <a href=\"https://console.cloud.google.com/ai-platform/notebooks/deploy-notebook?download_url=https://github.com/GoogleCloudPlatform/fraudfinder/raw/main/06_model_training_pipeline.ipynb\">\n",
    "       <img src=\"https://www.gstatic.com/cloud/images/navigation/vertex-ai.svg\" alt=\"Google Cloud Notebooks\">Open in Cloud Notebook\n",
    "    </a>\n",
    "  </td> \n",
    "  <td>\n",
    "    <a href=\"https://colab.research.google.com/github/GoogleCloudPlatform/fraudfinder/blob/main/06_model_training_pipeline.ipynb\">\n",
    "      <img src=\"https://cloud.google.com/ml-engine/images/colab-logo-32px.png\" alt=\"Colab logo\"> Open in Colab\n",
    "    </a>\n",
    "  </td>\n",
    "  <td>\n",
    "    <a href=\"https://github.com/GoogleCloudPlatform/fraudfinder/blob/main/06_model_training_pipeline.ipynb\">\n",
    "        <img src=\"https://cloud.google.com/ml-engine/images/github-logo-32px.png\" alt=\"GitHub logo\">\n",
    "      View on GitHub\n",
    "    </a>\n",
    "  </td>\n",
    "</table>"
   ]
  },
  {
   "cell_type": "markdown",
   "id": "23fad869-3dbf-4ad1-a6d4-f2ee3e968d2f",
   "metadata": {
    "id": "tvgnzT1CKxrO",
    "tags": []
   },
   "source": [
    "## Overview\n",
    "\n",
    "[Fraudfinder](https://github.com/googlecloudplatform/fraudfinder) is a series of labs on how to build a real-time fraud detection system on Google Cloud. Throughout the Fraudfinder labs, you will run the Kubeflow Pipeline as a modular compononets. The main purpose of this notebook is testing the pipeline as code. You can skip this notebook if you sure the pipeline code works properly."
   ]
  },
  {
   "cell_type": "markdown",
   "id": "4f4c08bd-0c27-4985-b084-72065aa72fd1",
   "metadata": {},
   "source": [
    "### Objective\n",
    "\n",
    "This notebook shows how to compile and run modular components of a pipeline. You need the modular compononet, to be used in MLOPS process. \n",
    "\n",
    "This lab uses the following Google Cloud services and resources:\n",
    "\n",
    "- [Vertex AI](https://cloud.google.com/vertex-ai/)\n",
    "- [BigQuery](https://cloud.google.com/bigquery/)\n",
    "\n",
    "Steps performed in this notebook:\n",
    "\n",
    "    * Compile the KFP Pipeline\n",
    "    * Run the KFP Pipeline"
   ]
  },
  {
   "cell_type": "markdown",
   "id": "b1682196-c37c-4b9f-be79-9e9ca976d817",
   "metadata": {},
   "source": [
    "### Costs"
   ]
  },
  {
   "cell_type": "markdown",
   "id": "f054bb51-a708-42ae-befe-9135e2537894",
   "metadata": {},
   "source": [
    "This tutorial uses billable components of Google Cloud:\n",
    "\n",
    "* Vertex AI\n",
    "* BigQuery\n",
    "\n",
    "Learn about [Vertex AI\n",
    "pricing](https://cloud.google.com/vertex-ai/pricing), [BigQuery pricing](https://cloud.google.com/bigquery/pricing) and use the [Pricing\n",
    "Calculator](https://cloud.google.com/products/calculator/)\n",
    "to generate a cost estimate based on your projected usage."
   ]
  },
  {
   "cell_type": "markdown",
   "id": "be2e5f8b-9879-4c19-9b98-f369de8c1335",
   "metadata": {},
   "source": [
    "### Load configuration settings from the setup notebook\n",
    "\n",
    "Set the constants used in this notebook and load the config settings from the `00_environment_setup.ipynb` notebook."
   ]
  },
  {
   "cell_type": "code",
   "execution_count": null,
   "id": "9fb9ddec-51fd-44f8-b200-4d17a08800ff",
   "metadata": {},
   "outputs": [],
   "source": [
    "GCP_PROJECTS = !gcloud config get-value project\n",
    "PROJECT_ID = GCP_PROJECTS[0]\n",
    "BUCKET_NAME = f\"{PROJECT_ID}-fraudfinder\"\n",
    "config = !gsutil cat gs://{BUCKET_NAME}/config/notebook_env.py\n",
    "print(config.n)\n",
    "exec(config.n)"
   ]
  },
  {
   "cell_type": "markdown",
   "id": "46dfc18f-14cc-406a-b352-fb8cfdbfd387",
   "metadata": {
    "id": "XoEqT2Y4DJmf",
    "tags": []
   },
   "source": [
    "### Import libraries and define constants"
   ]
  },
  {
   "cell_type": "markdown",
   "id": "a86e0786-4cf7-4967-a88f-55ab302e3660",
   "metadata": {},
   "source": [
    "#### Libraries"
   ]
  },
  {
   "cell_type": "code",
   "execution_count": null,
   "id": "58ac8d3f-5ea7-45e2-add9-fc63e7b03d9c",
   "metadata": {
    "id": "oM1iC_MfAts1"
   },
   "outputs": [],
   "source": [
    "import os\n",
    "import random\n",
    "from datetime import datetime"
   ]
  },
  {
   "cell_type": "code",
   "execution_count": null,
   "id": "ddddc45b-3d7e-427c-b2e7-65a3b07c1ca1",
   "metadata": {},
   "outputs": [],
   "source": [
    "MODEL_DISPLAY_NAME = f'xgboost-fruad-finder'\n",
    "PIPELINE_NAME = f'fraud-finder-xgb-pipeline-{ID}'\n",
    "PIPELINE_STORE_URI = f\"{BUCKET_NAME}/pipeline-store/\"\n",
    "IMAGE_REPOSITORY = f'fraudfinder-{ID}'\n",
    "IMAGE_NAME='dask-xgb-classificator'\n",
    "IMAGE_TAG='v1'\n",
    "IMAGE_URI=f\"us-central1-docker.pkg.dev/{PROJECT_ID}/{IMAGE_REPOSITORY}/{IMAGE_NAME}:{IMAGE_TAG}\"\n",
    "\n",
    "os.environ[\"PROJECT_ID\"] = PROJECT_ID"
   ]
  },
  {
   "cell_type": "code",
   "execution_count": null,
   "id": "b49f697e-1fe8-4a48-ae1f-56c82e4a91d5",
   "metadata": {},
   "outputs": [],
   "source": [
    "!mkdir ./pipelines/components/"
   ]
  },
  {
   "cell_type": "markdown",
   "id": "0377ccc3-8f1f-47ce-8b46-57c29270c69d",
   "metadata": {},
   "source": [
    "## Compile your pipeline into a JSON file\n",
    "\n",
    "Please check the `deploy_kfp_pipeline` directory. We already have added the code for building the pipline and its's components in the `pipeine` directory. Please feel free to change it.\n",
    "\n",
    "After the workflow of your pipeline is defined, you can proceed to compile the pipeline into a JSON format. The JSON file will include all the information for executing your pipeline on Vertex AI Pipelines."
   ]
  },
  {
   "cell_type": "code",
   "execution_count": null,
   "id": "b3b308e0-8ce8-4205-8152-7a11ddeb3e7f",
   "metadata": {},
   "outputs": [],
   "source": [
    "!python deploy_kfp_pipeline/pipeline_compile.py  --pipeline-name=$PIPELINE_NAME"
   ]
  },
  {
   "cell_type": "markdown",
   "id": "75eca42c-a9a9-4f80-be42-da894065e298",
   "metadata": {
    "tags": []
   },
   "source": [
    "## Submit your pipeline run\n",
    "Once the workflow of your pipeline is compiled into the JSON format, you can use the Vertex AI Python client to submit and run your pipeline."
   ]
  },
  {
   "cell_type": "code",
   "execution_count": null,
   "id": "db290d4f-694d-4f67-81a0-e92277e28010",
   "metadata": {},
   "outputs": [],
   "source": [
    "!gsutil ubla set on gs://{BUCKET_NAME}"
   ]
  },
  {
   "cell_type": "code",
   "execution_count": null,
   "id": "5f8c72bc-0ab8-47d9-ab6a-447051820463",
   "metadata": {},
   "outputs": [],
   "source": [
    "pipelines_file_location = os.path.join('./pipelines/', f'{PIPELINE_NAME}.json')\n",
    "!python ./deploy_kfp_pipeline/pipeline_run.py --pipelines-file-location=$pipelines_file_location"
   ]
  }
 ],
 "metadata": {
  "environment": {
   "kernel": "python3",
   "name": "common-cpu.m98",
   "type": "gcloud",
   "uri": "gcr.io/deeplearning-platform-release/base-cpu:m98"
  },
  "kernelspec": {
   "display_name": "Python 3",
   "language": "python",
   "name": "python3"
  },
  "language_info": {
   "codemirror_mode": {
    "name": "ipython",
    "version": 3
   },
   "file_extension": ".py",
   "mimetype": "text/x-python",
   "name": "python",
   "nbconvert_exporter": "python",
   "pygments_lexer": "ipython3",
   "version": "3.7.12"
  }
 },
 "nbformat": 4,
 "nbformat_minor": 5
}
