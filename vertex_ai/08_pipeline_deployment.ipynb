{
 "cells": [
  {
   "cell_type": "code",
   "execution_count": null,
   "id": "d64a4d01-b37c-41cc-a55d-ec13896d1f5b",
   "metadata": {
    "id": "ur8xi4C7S06n"
   },
   "outputs": [],
   "source": [
    "# Copyright 2022 Google LLC\n",
    "#\n",
    "# Licensed under the Apache License, Version 2.0 (the \"License\");\n",
    "# you may not use this file except in compliance with the License.\n",
    "# You may obtain a copy of the License at\n",
    "#\n",
    "#     https://www.apache.org/licenses/LICENSE-2.0\n",
    "#\n",
    "# Unless required by applicable law or agreed to in writing, software\n",
    "# distributed under the License is distributed on an \"AS IS\" BASIS,\n",
    "# WITHOUT WARRANTIES OR CONDITIONS OF ANY KIND, either express or implied.\n",
    "# See the License for the specific language governing permissions and\n",
    "# limitations under the License."
   ]
  },
  {
   "cell_type": "markdown",
   "id": "eef0b4d9-6526-4938-a9ea-445877bfc25e",
   "metadata": {
    "id": "JAPoU8Sm5E6e"
   },
   "source": [
    "# Deploy Kubeflow Pipeline to Vertex Pipelines\n",
    "\n",
    "<table align=\"left\">\n",
    "  <td>\n",
    "    <a href=\"https://console.cloud.google.com/ai-platform/notebooks/deploy-notebook?download_url=https://github.com/GoogleCloudPlatform/fraudfinder/raw/main/06_model_training_pipeline.ipynb\">\n",
    "       <img src=\"https://www.gstatic.com/cloud/images/navigation/vertex-ai.svg\" alt=\"Google Cloud Notebooks\">Open in Cloud Notebook\n",
    "    </a>\n",
    "  </td> \n",
    "  <td>\n",
    "    <a href=\"https://colab.research.google.com/github/GoogleCloudPlatform/fraudfinder/blob/main/06_model_training_pipeline.ipynb\">\n",
    "      <img src=\"https://cloud.google.com/ml-engine/images/colab-logo-32px.png\" alt=\"Colab logo\"> Open in Colab\n",
    "    </a>\n",
    "  </td>\n",
    "  <td>\n",
    "    <a href=\"https://github.com/GoogleCloudPlatform/fraudfinder/blob/main/06_model_training_pipeline.ipynb\">\n",
    "        <img src=\"https://cloud.google.com/ml-engine/images/github-logo-32px.png\" alt=\"GitHub logo\">\n",
    "      View on GitHub\n",
    "    </a>\n",
    "  </td>\n",
    "</table>"
   ]
  },
  {
   "cell_type": "markdown",
   "id": "318fa449-0d0e-4775-b7d0-ba90cc68fab7",
   "metadata": {
    "id": "tvgnzT1CKxrO",
    "tags": []
   },
   "source": [
    "## Overview\n",
    "\n",
    "For a rapid and reliable update of the pipelines in production, you need a robust automated CI/CD system. This automated CI/CD system lets your data scientists rapidly explore new ideas around feature engineering, model architecture, and hyperparameters. They can implement these ideas and automatically build, test, and deploy the new pipeline components to the target environment.\n",
    "\n",
    "This noebook shows how to deploy a Kubeflow pipeline into VertexAI Pipeline using CI/CD.\n",
    "\n",
    "\n",
    "\n"
   ]
  },
  {
   "cell_type": "markdown",
   "id": "a1699ed4-0030-49d0-8657-87ce43ccae64",
   "metadata": {},
   "source": [
    "### Objective\n",
    "\n",
    "This notebook shows how to use Cloud Build to deploy your Kubeflow Pipeline into Vertex AI Pipeline. \n",
    "\n",
    "This lab uses the following Google Cloud services and resources:\n",
    "\n",
    "- [Vertex AI](https://cloud.google.com/vertex-ai/)\n",
    "- [BigQuery](https://cloud.google.com/bigquery/)\n",
    "\n",
    "Steps performed in this notebook:\n",
    "\n",
    "    * Deploy the Kubeflow Pipline, and run it on-demand\n",
    "    * Deploy the new Kubeflow pipeline into the project using a Cloud Build trigger to automatically start a build whenever you make any changes to your source code. \n"
   ]
  },
  {
   "cell_type": "markdown",
   "id": "767e4a05-b1d3-4352-853a-6fd873a434ad",
   "metadata": {},
   "source": [
    "### Load configuration settings from the setup notebook\n",
    "\n",
    "Set the constants used in this notebook and load the config settings from the `00_environment_setup.ipynb` notebook."
   ]
  },
  {
   "cell_type": "code",
   "execution_count": null,
   "id": "8fd6809a-6e30-4712-9fef-960ed1eb5fc5",
   "metadata": {},
   "outputs": [],
   "source": [
    "GCP_PROJECTS = !gcloud config get-value project\n",
    "PROJECT_ID = GCP_PROJECTS[0]\n",
    "BUCKET_NAME = f\"{PROJECT_ID}-fraudfinder\"\n",
    "config = !gsutil cat gs://{BUCKET_NAME}/config/notebook_env.py\n",
    "print(config.n)\n",
    "exec(config.n)"
   ]
  },
  {
   "cell_type": "code",
   "execution_count": null,
   "id": "0936db70-4009-4fe5-9ab3-514752bcad78",
   "metadata": {},
   "outputs": [],
   "source": [
    "PIPELINE_NAME = f'fraud-finder-xgb-pipeline-{ID}'\n",
    "PIPELINE_STORE_URI = f\"gs://{BUCKET_NAME}/pipeline-store/\"\n",
    "IMAGE_REPOSITORY = f'fraudfinder-{ID}'\n",
    "TRAINING_IMAGE_NAME='dask-xgb-classificator'\n",
    "TRAINING_IMAGE_TAG='v1'\n",
    "TRAINING_IMAGE_URI=f\"us-central1-docker.pkg.dev/{PROJECT_ID}/{IMAGE_REPOSITORY}/{TRAINING_IMAGE_NAME}:{TRAINING_IMAGE_TAG}\""
   ]
  },
  {
   "cell_type": "code",
   "execution_count": null,
   "id": "29a22a45-5519-4b2e-b27a-6f43a6ebebcf",
   "metadata": {},
   "outputs": [],
   "source": [
    "SUBSTITUTIONS=f\"\"\"\\\n",
    "_IMAGE_REPOSITORY='{IMAGE_REPOSITORY}',\\\n",
    "_PIPELINE_STORE_URI={PIPELINE_STORE_URI},\\\n",
    "_PIPELINE_NAME={PIPELINE_NAME},\\\n",
    "_WORKSPACE_DIR=./\\\n",
    "\"\"\"\n",
    "\n",
    "!echo $SUBSTITUTIONS"
   ]
  },
  {
   "cell_type": "markdown",
   "id": "3a092f32-e89a-4361-84d3-8dfa45175aee",
   "metadata": {},
   "source": [
    "### A) If you want to run CI/CD on-demand through the notebook"
   ]
  },
  {
   "cell_type": "code",
   "execution_count": null,
   "id": "2ab6e28f-d516-4f0e-bceb-c44a0d6b0036",
   "metadata": {},
   "outputs": [],
   "source": [
    "!gcloud builds submit /home/jupyter/fraudfinder/vertex_ai/ --timeout=306m \\\n",
    "--config=deploy_kfp_pipeline/pipelinedeployment.yaml \\\n",
    "--machine-type=e2-highcpu-8 \\\n",
    "--substitutions {SUBSTITUTIONS}"
   ]
  },
  {
   "cell_type": "code",
   "execution_count": null,
   "id": "7cf08565-a970-4457-b6c8-c24ee61a6ec5",
   "metadata": {},
   "outputs": [],
   "source": [
    "!gsutil ls $PIPELINE_STORE_URI"
   ]
  },
  {
   "cell_type": "code",
   "execution_count": null,
   "id": "8b6db52e-4b76-4ef7-b5a9-b7e54d39b645",
   "metadata": {},
   "outputs": [],
   "source": [
    "!gsutil cp $pipelines_file_location ./pipelines/gcs/"
   ]
  },
  {
   "cell_type": "markdown",
   "id": "5fb58e36-85a5-49c8-825a-38a38c0d1007",
   "metadata": {},
   "source": [
    "### B) If you want to run CI/CD triggered based on source change in Github\n",
    "\n",
    "A Cloud Build trigger automatically starts a build whenever you make any changes to your source code. You can configure the trigger to build your code on any changes to the source repository or only changes that match certain criteria.\n",
    "\n"
   ]
  },
  {
   "cell_type": "code",
   "execution_count": null,
   "id": "169b005f-1e72-4865-9087-3b8d415dd7d3",
   "metadata": {},
   "outputs": [],
   "source": [
    "# TO DO: To integrate it with your repo\n",
    "# !gcloud beta builds triggers create github \\\n",
    "# --name=triger-ff-training-pipeline-CICD \\\n",
    "# --repo-name=fraudfinder \\\n",
    "# --repo-owner=[to add] \\\n",
    "# --branch-pattern=main \\\n",
    "# --included-files=fraudfinder/vertexai/** \\\n",
    "# --build-config=fraudfinder/vertexai/cloudbuild.yaml \\\n",
    "# --substitutions= {SUBSTITUTIONS}"
   ]
  }
 ],
 "metadata": {
  "environment": {
   "kernel": "python3",
   "name": "common-cpu.m98",
   "type": "gcloud",
   "uri": "gcr.io/deeplearning-platform-release/base-cpu:m98"
  },
  "kernelspec": {
   "display_name": "Python 3",
   "language": "python",
   "name": "python3"
  },
  "language_info": {
   "codemirror_mode": {
    "name": "ipython",
    "version": 3
   },
   "file_extension": ".py",
   "mimetype": "text/x-python",
   "name": "python",
   "nbconvert_exporter": "python",
   "pygments_lexer": "ipython3",
   "version": "3.7.12"
  }
 },
 "nbformat": 4,
 "nbformat_minor": 5
}
